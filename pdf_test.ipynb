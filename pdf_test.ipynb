{
 "cells": [
  {
   "cell_type": "code",
   "execution_count": 1,
   "metadata": {},
   "outputs": [
    {
     "name": "stderr",
     "output_type": "stream",
     "text": [
      "/home/codespace/.python/current/lib/python3.10/site-packages/tqdm/auto.py:21: TqdmWarning: IProgress not found. Please update jupyter and ipywidgets. See https://ipywidgets.readthedocs.io/en/stable/user_install.html\n",
      "  from .autonotebook import tqdm as notebook_tqdm\n"
     ]
    }
   ],
   "source": [
    "from datasets import load_dataset\n",
    "import pandas as pd\n",
    "import yaml\n",
    "import json"
   ]
  },
  {
   "cell_type": "code",
   "execution_count": 2,
   "metadata": {},
   "outputs": [],
   "source": [
    "# \"public_identifier\", \"profile_pic_url\", \"background_cover_image_url\", \"first_name\", \"last_name\", \"full_name\", \"occupation\", \"headline\", \"summary\", \"country\", \"country_full_name\", \"city\", \"state\", \"experiences\", \"education\", \"languages\", \"accomplishment_organisations\", \"accomplishment_publications\", \"accomplishment_honors_awards\", \"accomplishment_patents\", \"accomplishment_courses\", \"accomplishment_projects\", \"accomplishment_test_scores\", \"volunteer_work\", \"certifications\", \"connections\", \"people_also_viewed\", \"recommendations\", \"activities\", \"similarly_named_profiles\", \"articles\", \"groups\", \"skills\", \"inferred_salary\", \"github\", \"facebook\", \"gender\", \"birth_date\", \"industry\", \"interests\"\n",
    "\n",
    "# \"experiences\",\"education\",\"languages\",\"accomplishment_courses\",\"accomplishment_projects\",\"certifications\",\"skills\",\"github\",\"facebook\",\"birth_date\",\"industry\",\"interests\"\n",
    "\n",
    "# \"full_name\",\"occupation\",\"headline\",\"summary\",\"country_full_name\",\"city\", \"state\",\"experiences\",\"education\",\"languages\",\"accomplishment_courses\",\"accomplishment_projects\", \"certifications\",\"skills\",\"github\",\"facebook\",\"birth_date\",\"industry\",\"interests\"\n",
    "\n",
    "dataset = load_dataset(\"pixelpandacreative/resumes\", split=\"train\")"
   ]
  },
  {
   "cell_type": "code",
   "execution_count": 3,
   "metadata": {},
   "outputs": [],
   "source": [
    "# dataset.column_names\n",
    "# dataset[0][\"education\"]\n",
    "# dataset[\"accomplishment_organisations\"]"
   ]
  },
  {
   "cell_type": "code",
   "execution_count": 4,
   "metadata": {},
   "outputs": [],
   "source": [
    "# column_names = \"full_name\",\"occupation\",\"headline\",\"summary\",\"country_full_name\",\"city\", \"state\",\"experiences\",\"education\",\"languages\",\"accomplishment_courses\",\"accomplishment_projects\", \"certifications\",\"skills\",\"github\",\"facebook\",\"birth_date\",\"industry\",\"interests\"\n",
    "column_names = dataset.column_names"
   ]
  },
  {
   "cell_type": "code",
   "execution_count": 5,
   "metadata": {},
   "outputs": [],
   "source": [
    "non_empty_examples = {}\n",
    "for col in column_names:\n",
    "    for val in dataset[col]:\n",
    "        if val not in [None, []]:\n",
    "            non_empty_examples[col] = val\n",
    "            break\n",
    "\n",
    "for col in column_names:\n",
    "    if col not in non_empty_examples:\n",
    "        non_empty_examples[col] = None"
   ]
  },
  {
   "cell_type": "code",
   "execution_count": 7,
   "metadata": {},
   "outputs": [],
   "source": [
    "# print(json.dumps(non_empty_examples, indent=4))"
   ]
  },
  {
   "cell_type": "code",
   "execution_count": null,
   "metadata": {},
   "outputs": [],
   "source": [
    "first_elem = dataset[0]"
   ]
  },
  {
   "cell_type": "code",
   "execution_count": null,
   "metadata": {},
   "outputs": [],
   "source": [
    "import string\n",
    "\n",
    "dict_test = [\n",
    "    {\n",
    "        \"profile\": {\n",
    "            \"name\": string.capwords(first_elem[\"full_name\"]),\n",
    "            \"label\": first_elem[\"occupation\"],\n",
    "            \"email\": \"jaredbeachdesign@gmail.com\",\n",
    "            \"phone\": \"+1 (205) 886-0005\",\n",
    "            \"birth\": \"05-23-1994\",\n",
    "            \"address\": \"table tennis\",\n",
    "            \"addressLine1\": \"711 11th St.\",\n",
    "            \"addressLine2\": \"Hunt House Appts. #G\",\n",
    "            \"addressLine3\": \"Tuscaloosa, AL 35401\",\n",
    "            \"objective\": \"Using my love of technology to make better software and interfaces to simplify the lives of others.\"\n",
    "        }\n",
    "    },\n",
    "    {\"countries\": [\"Pakistan\", \"USA\", \"India\", \"China\", \"Germany\", \"France\", \"Spain\"]},\n",
    "]\n",
    "\n",
    "with open(\"resumes/temp.yaml\", \"w\") as file:\n",
    "    sort_file = yaml.dump(dict_test, sort_keys=True)\n",
    "    file.write(sort_file)"
   ]
  }
 ],
 "metadata": {
  "kernelspec": {
   "display_name": "Python 3",
   "language": "python",
   "name": "python3"
  },
  "language_info": {
   "codemirror_mode": {
    "name": "ipython",
    "version": 3
   },
   "file_extension": ".py",
   "mimetype": "text/x-python",
   "name": "python",
   "nbconvert_exporter": "python",
   "pygments_lexer": "ipython3",
   "version": "3.10.8"
  },
  "orig_nbformat": 4
 },
 "nbformat": 4,
 "nbformat_minor": 2
}
